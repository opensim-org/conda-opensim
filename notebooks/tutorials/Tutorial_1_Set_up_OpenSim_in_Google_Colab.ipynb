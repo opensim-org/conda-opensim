{
  "nbformat": 4,
  "nbformat_minor": 0,
  "metadata": {
    "colab": {
      "provenance": [],
      "collapsed_sections": [],
      "include_colab_link": true
    },
    "kernelspec": {
      "name": "python3",
      "display_name": "Python 3"
    },
    "language_info": {
      "name": "python"
    },
    "accelerator": "GPU",
    "gpuClass": "standard"
  },
  "cells": [
    {
      "cell_type": "markdown",
      "metadata": {
        "id": "view-in-github",
        "colab_type": "text"
      },
      "source": [
        "<a href=\"https://colab.research.google.com/github/opensim-org/conda-opensim/blob/master/notebooks/tutorials/Tutorial_1_Set_up_OpenSim_in_Google_Colab.ipynb\" target=\"_parent\"><img src=\"https://colab.research.google.com/assets/colab-badge.svg\" alt=\"Open In Colab\"/></a>"
      ]
    },
    {
      "cell_type": "markdown",
      "source": [
        "# 1. Introduction to Conda-OpenSim"
      ],
      "metadata": {
        "id": "YS-0eq5Y6BjU"
      }
    },
    {
      "cell_type": "markdown",
      "source": [
        "\n",
        "## 1.1. Objectives"
      ],
      "metadata": {
        "id": "ZZClpIjbitD4"
      }
    },
    {
      "cell_type": "markdown",
      "source": [
        "**Introduction to OpenSim**\n",
        "\n",
        "[OpenSim](https://opensim.stanford.edu/) is an open-source software that allows users to develop, analyze, and visualize models of the musculoskeletal system, and to generate dynamic simulations of movement [[1]](https://doi.org/10.1109/TBME.2007.901024). OpenSim enables users to create custom studies, including investigating the effects of musculoskeletal geometry, joint kinematics, and muscle-tendon properties on the forces and joint moments the muscles can produce. With OpenSim, our goal is to provide a framework that allows the biomechanics community to create, share, and extend a library of models and dynamic simulation tools that can be used to study and quantify human and animal movement.\n",
        "\n",
        "**Purpose**\n",
        "\n",
        "The purpose of this tutorial is to introduce users to the [Conda OpenSim](https://anaconda.org/opensim-org/opensim) package, that allows the use of the library in [Jupyter notebooks](https://jupyter.org/). In this tutorial you will:\n",
        "\n",
        "*   Learn to setup OpenSim in a Jupyter environment ([Google Colab](https://colab.research.google.com/?hl=en)).\n",
        "*   Create a simple pendulum in OpenSim.\n",
        "*   Visualize the position of the pendulum using [matplotlib](https://matplotlib.org/).\n",
        "\n",
        "**Format**\n",
        "\n",
        "This tutorial guides you through the set up of OpenSim in Google Colab utilizing OpenSim conda package. Then, to test that everything is working properly, you will create a simple pendulum, simulate it, and visualize its position. As you complete each section of the tutorial, feel free to explore Conda Opensim and modify the coding blocks of the tutorial on your own."
      ],
      "metadata": {
        "id": "AKANMMa6iycq"
      }
    },
    {
      "cell_type": "markdown",
      "source": [
        "## 1.2. Setup Conda and OpenSim"
      ],
      "metadata": {
        "id": "kPnGlZIT8oiM"
      }
    },
    {
      "cell_type": "markdown",
      "source": [
        "In the following cell, you will use [condacolab](https://github.com/conda-incubator/condacolab) to install [Miniconda](https://docs.conda.io/en/latest/miniconda.html). If you want to install a different conda distribution (e.g., Anaconda, Mambaforge..) check [condacolab's documentation](https://github.com/conda-incubator/condacolab#usage)."
      ],
      "metadata": {
        "id": "3kxYrs4Hi6Nl"
      }
    },
    {
      "cell_type": "code",
      "execution_count": null,
      "metadata": {
        "colab": {
          "base_uri": "https://localhost:8080/"
        },
        "id": "5-sX9L3f6Asq",
        "outputId": "2442eb4a-64d2-4435-a533-55bc195164dc"
      },
      "outputs": [
        {
          "output_type": "stream",
          "name": "stdout",
          "text": [
            "⏬ Downloading https://github.com/jaimergp/miniforge/releases/latest/download/Mambaforge-colab-Linux-x86_64.sh...\n",
            "📦 Installing...\n",
            "📌 Adjusting configuration...\n",
            "🩹 Patching environment...\n",
            "⏲ Done in 0:00:21\n",
            "🔁 Restarting kernel...\n"
          ]
        }
      ],
      "source": [
        "!pip install -q condacolab\n",
        "import condacolab\n",
        "condacolab.install()"
      ]
    },
    {
      "cell_type": "markdown",
      "source": [
        "Don't worry if after executing the previous cell you get an error saying that your session has failed. The reason of this is that condacolab needs to restart the session for the changes to take effect. Now, execute the following cell to install the Conda OpenSim package using conda."
      ],
      "metadata": {
        "id": "LdmpfqC8Dt0x"
      }
    },
    {
      "cell_type": "code",
      "source": [
        "!conda install -c opensim-org opensim"
      ],
      "metadata": {
        "id": "H9WE2h3fD61J",
        "colab": {
          "base_uri": "https://localhost:8080/"
        },
        "outputId": "b44fb4ab-99ae-476a-ff8d-d4eb2ade282e"
      },
      "execution_count": null,
      "outputs": [
        {
          "output_type": "stream",
          "name": "stdout",
          "text": [
            "Collecting package metadata (current_repodata.json): - \b\b\\ \b\b| \b\b/ \b\b- \b\b\\ \b\b| \b\b/ \b\b- \b\b\\ \b\b| \b\b/ \b\b- \b\b\\ \b\b| \b\b/ \b\b- \b\b\\ \b\b| \b\b/ \b\b- \b\b\\ \b\b| \b\b/ \b\b- \b\b\\ \b\b| \b\b/ \b\b- \b\b\\ \b\b| \b\b/ \b\b- \b\b\\ \b\b| \b\b/ \b\b- \b\b\\ \b\b| \b\b/ \b\b- \b\b\\ \b\b| \b\b/ \b\b- \b\b\\ \b\b| \b\b/ \b\b- \b\b\\ \b\b| \b\b/ \b\b- \b\b\\ \b\b| \b\b/ \b\b- \b\b\\ \b\b| \b\b/ \b\b- \b\b\\ \b\b| \b\b/ \b\b- \b\b\\ \b\b| \b\b/ \b\b- \b\b\\ \b\b| \b\b/ \b\b- \b\b\\ \b\b| \b\b/ \b\b- \b\b\\ \b\b| \b\b/ \b\b- \b\b\\ \b\b| \b\b/ \b\b- \b\b\\ \b\b| \b\b/ \b\b- \b\b\\ \b\b| \b\b/ \b\b- \b\b\\ \b\b| \b\b/ \b\b- \b\b\\ \b\b| \b\b/ \b\b- \b\b\\ \b\b| \b\b/ \b\b- \b\b\\ \b\b| \b\b/ \b\b- \b\b\\ \b\b| \b\b/ \b\b- \b\bdone\n",
            "Solving environment: | \b\b/ \b\b- \b\b\\ \b\b| \b\b/ \b\b- \b\b\\ \b\b| \b\b/ \b\b- \b\b\\ \b\b| \b\b/ \b\b- \b\b\\ \b\b| \b\b/ \b\b- \b\b\\ \b\b| \b\b/ \b\b- \b\b\\ \b\b| \b\b/ \b\b- \b\b\\ \b\bdone\n",
            "\n",
            "## Package Plan ##\n",
            "\n",
            "  environment location: /usr/local\n",
            "\n",
            "  added / updated specs:\n",
            "    - opensim\n",
            "\n",
            "\n",
            "The following packages will be downloaded:\n",
            "\n",
            "    package                    |            build\n",
            "    ---------------------------|-----------------\n",
            "    certifi-2022.6.15          |     pyhd8ed1ab_1         154 KB  conda-forge\n",
            "    libblas-3.9.0              |16_linux64_openblas          13 KB  conda-forge\n",
            "    libcblas-3.9.0             |16_linux64_openblas          13 KB  conda-forge\n",
            "    libgfortran-ng-12.1.0      |      h69a702a_16          23 KB  conda-forge\n",
            "    libgfortran5-12.1.0        |      hdcd56e2_16         1.8 MB  conda-forge\n",
            "    liblapack-3.9.0            |16_linux64_openblas          13 KB  conda-forge\n",
            "    libopenblas-0.3.21         |pthreads_h78a6416_3        10.1 MB  conda-forge\n",
            "    numpy-1.21.6               |   py37h976b520_0         6.1 MB  conda-forge\n",
            "    openblas-0.3.21            |pthreads_h320a7e8_3        10.8 MB  conda-forge\n",
            "    opensim-4.4                |        py37np120        68.7 MB  opensim-org\n",
            "    ------------------------------------------------------------\n",
            "                                           Total:        97.7 MB\n",
            "\n",
            "The following NEW packages will be INSTALLED:\n",
            "\n",
            "  libblas            conda-forge/linux-64::libblas-3.9.0-16_linux64_openblas\n",
            "  libcblas           conda-forge/linux-64::libcblas-3.9.0-16_linux64_openblas\n",
            "  libgfortran-ng     conda-forge/linux-64::libgfortran-ng-12.1.0-h69a702a_16\n",
            "  libgfortran5       conda-forge/linux-64::libgfortran5-12.1.0-hdcd56e2_16\n",
            "  liblapack          conda-forge/linux-64::liblapack-3.9.0-16_linux64_openblas\n",
            "  libopenblas        conda-forge/linux-64::libopenblas-0.3.21-pthreads_h78a6416_3\n",
            "  numpy              conda-forge/linux-64::numpy-1.21.6-py37h976b520_0\n",
            "  openblas           conda-forge/linux-64::openblas-0.3.21-pthreads_h320a7e8_3\n",
            "  opensim            opensim-org/linux-64::opensim-4.4-py37np120\n",
            "\n",
            "The following packages will be UPDATED:\n",
            "\n",
            "  certifi            conda-forge/linux-64::certifi-2022.6.~ --> conda-forge/noarch::certifi-2022.6.15-pyhd8ed1ab_1\n",
            "\n",
            "\n",
            "\n",
            "Downloading and Extracting Packages\n",
            "openblas-0.3.21      | 10.8 MB   | : 100% 1.0/1 [00:02<00:00,  2.28s/it]               \n",
            "libopenblas-0.3.21   | 10.1 MB   | : 100% 1.0/1 [00:01<00:00,  1.73s/it]\n",
            "libgfortran5-12.1.0  | 1.8 MB    | : 100% 1.0/1 [00:00<00:00,  2.98it/s]\n",
            "certifi-2022.6.15    | 154 KB    | : 100% 1.0/1 [00:00<00:00, 15.73it/s]\n",
            "libcblas-3.9.0       | 13 KB     | : 100% 1.0/1 [00:00<00:00, 23.81it/s]\n",
            "opensim-4.4          | 68.7 MB   | : 100% 1.0/1 [00:12<00:00, 12.04s/it]\n",
            "libblas-3.9.0        | 13 KB     | : 100% 1.0/1 [00:00<00:00, 21.39it/s]\n",
            "liblapack-3.9.0      | 13 KB     | : 100% 1.0/1 [00:00<00:00, 13.95it/s]\n",
            "libgfortran-ng-12.1. | 23 KB     | : 100% 1.0/1 [00:00<00:00, 11.13it/s]\n",
            "numpy-1.21.6         | 6.1 MB    | : 100% 1.0/1 [00:01<00:00,  1.27s/it]\n",
            "Preparing transaction: / \b\b- \b\bdone\n",
            "Verifying transaction: | \b\b/ \b\b- \b\b\\ \b\b| \b\b/ \b\b- \b\b\\ \b\b| \b\b/ \b\b- \b\b\\ \b\b| \b\b/ \b\b- \b\bdone\n",
            "Executing transaction: | \b\b/ \b\b- \b\b\\ \b\b| \b\b/ \b\b- \b\b\\ \b\b| \b\b/ \b\b- \b\b\\ \b\b| \b\bdone\n",
            "Retrieving notices: ...working... done\n"
          ]
        }
      ]
    },
    {
      "cell_type": "markdown",
      "source": [
        "## 1.3. Using OpenSim to create a pendulum"
      ],
      "metadata": {
        "id": "hj5Y1HCXEb_M"
      }
    },
    {
      "cell_type": "markdown",
      "source": [
        "In order to test OpenSim, you are going to create a simple pendulum in the following cells. Model Factory allows you to create a single-linked pendulum. Then, after initializing the system, you will create a manager to integrate the equations of motion of the pendulum and obtain its table of states. Finally, we obtain the calculated positions and times and plot them using matplotlib."
      ],
      "metadata": {
        "id": "1W4hVOJvEmc5"
      }
    },
    {
      "cell_type": "markdown",
      "source": [
        "The following cell imports opensim module and if successful shows the current version and build date (**should be 4.4**)"
      ],
      "metadata": {
        "id": "BV3ofVUoEkEi"
      }
    },
    {
      "cell_type": "code",
      "source": [
        "import opensim as osim\n",
        "osim.GetVersionAndDate()"
      ],
      "metadata": {
        "colab": {
          "base_uri": "https://localhost:8080/",
          "height": 35
        },
        "id": "H4vWQbmhEjVr",
        "outputId": "fc6cb39a-dfcd-4391-ec7a-2a558e3715e0"
      },
      "execution_count": null,
      "outputs": [
        {
          "output_type": "execute_result",
          "data": {
            "text/plain": [
              "'version 4.4, build date 23:28:47 Jul 25 2022'"
            ],
            "application/vnd.google.colaboratory.intrinsic+json": {
              "type": "string"
            }
          },
          "metadata": {},
          "execution_count": 2
        }
      ]
    },
    {
      "cell_type": "markdown",
      "source": [
        "Now, let's create a simple pendulum and calculate it position over time."
      ],
      "metadata": {
        "id": "RlqyWYr3HfAD"
      }
    },
    {
      "cell_type": "code",
      "source": [
        "# Simulation parameters (Feel free to change this)\n",
        "starting_time =  0.0\n",
        "ending_time = 10.0\n",
        "\n",
        "# Create the pendulum.\n",
        "pendulum = osim.ModelFactory_createPendulum()\n",
        "\n",
        "# Initialize the system and set initial time to 0.\n",
        "state = pendulum.initSystem()\n",
        "state.setTime(starting_time)\n",
        "\n",
        "# Get and initialize manager with the state.\n",
        "manager = osim.Manager(pendulum)\n",
        "manager.initialize(state)\n",
        "\n",
        "# Integrate the model until the ending time and get table of states.\n",
        "state = manager.integrate(ending_time)\n",
        "statesTable = manager.getStatesTable()"
      ],
      "metadata": {
        "id": "uCT1o9zzF-Nn"
      },
      "execution_count": null,
      "outputs": []
    },
    {
      "cell_type": "markdown",
      "source": [
        "Once the simulation has finished, you can extract the times and positions from the table of states."
      ],
      "metadata": {
        "id": "KFYZ4O9XN4xH"
      }
    },
    {
      "cell_type": "code",
      "source": [
        "# Extract time values for the x axis.\n",
        "times = statesTable.getIndependentColumn()\n",
        "\n",
        "# Extract positions of the pendulum over time.\n",
        "positions = statesTable.getDependentColumn('/jointset/j0/q0/value')"
      ],
      "metadata": {
        "id": "FPACtscIGPaC"
      },
      "execution_count": null,
      "outputs": []
    },
    {
      "cell_type": "markdown",
      "source": [
        "The data resulting from the simulation can now be ploted using, for example, matplotlib. The following cell plots the position of the pendulum over time."
      ],
      "metadata": {
        "id": "EeSYY1DtOLhd"
      }
    },
    {
      "cell_type": "code",
      "source": [
        "import matplotlib.pyplot as plt\n",
        "import numpy as np\n",
        "\n",
        "# Plot time against swinging pendulum's position.\n",
        "plt.title(\"Position of the pendulum over time\")\n",
        "plt.plot(times, positions.to_numpy())\n",
        "plt.legend(['Position'], loc='best')\n",
        "plt.xlabel(\"Time\")\n",
        "plt.ylabel(\"Position\")"
      ],
      "metadata": {
        "colab": {
          "base_uri": "https://localhost:8080/",
          "height": 313
        },
        "id": "NX4GrIpXGP1F",
        "outputId": "c10a715c-6ae3-45b1-c750-69ed04d2f3d7"
      },
      "execution_count": null,
      "outputs": [
        {
          "output_type": "execute_result",
          "data": {
            "text/plain": [
              "Text(0, 0.5, 'Position')"
            ]
          },
          "metadata": {},
          "execution_count": 5
        },
        {
          "output_type": "display_data",
          "data": {
            "text/plain": [
              "<Figure size 432x288 with 1 Axes>"
            ],
            "image/png": "[encoded data removed]"
          },
          "metadata": {
            "needs_background": "light"
          }
        }
      ]
    },
    {
      "cell_type": "markdown",
      "source": [
        "## 1.4. Conclussion"
      ],
      "metadata": {
        "id": "J5mhS9zNX9ff"
      }
    },
    {
      "cell_type": "markdown",
      "source": [
        "In this tutorial you have used [condacolab](https://github.com/conda-incubator/condacolab) to install [Miniconda](https://docs.conda.io/en/latest/miniconda.html) in [Google Colab](https://colab.research.google.com/?hl=en). Then, you have installed Conda Opensim in the Miniconda environment, and you have tested it by creating a simple pendulum and simulating it. Finally, the positions have been plotted using matplotlib."
      ],
      "metadata": {
        "id": "_M04jPJLuiUz"
      }
    },
    {
      "cell_type": "markdown",
      "source": [
        "## 1.5. Useful Links\n",
        "\n",
        "\n",
        "\n"
      ],
      "metadata": {
        "id": "lLWgd8Noun6Y"
      }
    },
    {
      "cell_type": "markdown",
      "source": [
        "> **OpenSim Website:** https://opensim.stanford.edu/\n",
        ">\n",
        "> **OpenSim API Documentation:** https://simtk.org/api_docs/opensim/api_docs/\n",
        "> \n",
        "> **OpenSim Creator Website:** https://opensimcreator.com/\n",
        "> \n",
        "> **SimTK Website:** https://simtk.org/projects/opensim\n",
        "> \n",
        "> **Biomecanics of Movement's Course:** https://www.youtube.com/channel/UCDNGy0KKNLQ-ztcL5h2Z6zA"
      ],
      "metadata": {
        "id": "m8M3dlT5xQcD"
      }
    },
    {
      "cell_type": "markdown",
      "source": [
        "## 1.6. References\n",
        "\n",
        "\n"
      ],
      "metadata": {
        "id": "dxMjdukAnH2N"
      }
    },
    {
      "cell_type": "markdown",
      "source": [
        "> [1].   Delp, S. L., Anderson, F. C., Arnold, A. S., Loan, P., Habib, A., John, C. T., Guendelman, E., & Thelen, D. G. (2007). **OpenSim: open-source software to create and analyze dynamic simulations of movement.** *IEEE Transactions on Bio-Medical Engineering*, 54(11), 1940–1950. https://doi.org/10.1109/TBME.2007.901024"
      ],
      "metadata": {
        "id": "WX2A_iaYulV1"
      }
    }
  ]
}
